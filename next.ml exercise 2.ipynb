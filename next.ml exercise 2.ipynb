{
 "metadata": {
  "language": "Julia",
  "name": ""
 },
 "nbformat": 3,
 "nbformat_minor": 0,
 "worksheets": [
  {
   "cells": [
    {
     "cell_type": "code",
     "collapsed": false,
     "input": [
      "using DecisionTree\n",
      "using DataFrames"
     ],
     "language": "python",
     "metadata": {},
     "outputs": [],
     "prompt_number": 2
    },
    {
     "cell_type": "code",
     "collapsed": false,
     "input": [
      "# download from: http://ieor.berkeley.edu/~aaswani/sp14_ieor290a/homeworks/winequality-red.csv\n",
      "# replace path with your download location\n",
      "wine = readtable(\"/Users/nick/Downloads/winequality-red.csv\",separator=';')"
     ],
     "language": "python",
     "metadata": {},
     "outputs": [
      {
       "html": [
        "<table class=\"data-frame\"><tr><th></th><th>fixed_acidity</th><th>volatile_acidity</th><th>citric_acid</th><th>residual_sugar</th><th>chlorides</th><th>free_sulfur_dioxide</th><th>total_sulfur_dioxide</th><th>density</th><th>pH</th><th>sulphates</th><th>alcohol</th><th>quality</th></tr><tr><th>1</th><td>7.4</td><td>0.7</td><td>0.0</td><td>1.9</td><td>0.076</td><td>11.0</td><td>34.0</td><td>0.9978</td><td>3.51</td><td>0.56</td><td>9.4</td><td>5</td></tr><tr><th>2</th><td>7.8</td><td>0.88</td><td>0.0</td><td>2.6</td><td>0.098</td><td>25.0</td><td>67.0</td><td>0.9968</td><td>3.2</td><td>0.68</td><td>9.8</td><td>5</td></tr><tr><th>3</th><td>7.8</td><td>0.76</td><td>0.04</td><td>2.3</td><td>0.092</td><td>15.0</td><td>54.0</td><td>0.997</td><td>3.26</td><td>0.65</td><td>9.8</td><td>5</td></tr><tr><th>4</th><td>11.2</td><td>0.28</td><td>0.56</td><td>1.9</td><td>0.075</td><td>17.0</td><td>60.0</td><td>0.998</td><td>3.16</td><td>0.58</td><td>9.8</td><td>6</td></tr><tr><th>5</th><td>7.4</td><td>0.7</td><td>0.0</td><td>1.9</td><td>0.076</td><td>11.0</td><td>34.0</td><td>0.9978</td><td>3.51</td><td>0.56</td><td>9.4</td><td>5</td></tr><tr><th>6</th><td>7.4</td><td>0.66</td><td>0.0</td><td>1.8</td><td>0.075</td><td>13.0</td><td>40.0</td><td>0.9978</td><td>3.51</td><td>0.56</td><td>9.4</td><td>5</td></tr><tr><th>7</th><td>7.9</td><td>0.6</td><td>0.06</td><td>1.6</td><td>0.069</td><td>15.0</td><td>59.0</td><td>0.9964</td><td>3.3</td><td>0.46</td><td>9.4</td><td>5</td></tr><tr><th>8</th><td>7.3</td><td>0.65</td><td>0.0</td><td>1.2</td><td>0.065</td><td>15.0</td><td>21.0</td><td>0.9946</td><td>3.39</td><td>0.47</td><td>10.0</td><td>7</td></tr><tr><th>9</th><td>7.8</td><td>0.58</td><td>0.02</td><td>2.0</td><td>0.073</td><td>9.0</td><td>18.0</td><td>0.9968</td><td>3.36</td><td>0.57</td><td>9.5</td><td>7</td></tr><tr><th>10</th><td>7.5</td><td>0.5</td><td>0.36</td><td>6.1</td><td>0.071</td><td>17.0</td><td>102.0</td><td>0.9978</td><td>3.35</td><td>0.8</td><td>10.5</td><td>5</td></tr><tr><th>11</th><td>6.7</td><td>0.58</td><td>0.08</td><td>1.8</td><td>0.097</td><td>15.0</td><td>65.0</td><td>0.9959</td><td>3.28</td><td>0.54</td><td>9.2</td><td>5</td></tr><tr><th>12</th><td>7.5</td><td>0.5</td><td>0.36</td><td>6.1</td><td>0.071</td><td>17.0</td><td>102.0</td><td>0.9978</td><td>3.35</td><td>0.8</td><td>10.5</td><td>5</td></tr><tr><th>13</th><td>5.6</td><td>0.615</td><td>0.0</td><td>1.6</td><td>0.089</td><td>16.0</td><td>59.0</td><td>0.9943</td><td>3.58</td><td>0.52</td><td>9.9</td><td>5</td></tr><tr><th>14</th><td>7.8</td><td>0.61</td><td>0.29</td><td>1.6</td><td>0.114</td><td>9.0</td><td>29.0</td><td>0.9974</td><td>3.26</td><td>1.56</td><td>9.1</td><td>5</td></tr><tr><th>15</th><td>8.9</td><td>0.62</td><td>0.18</td><td>3.8</td><td>0.176</td><td>52.0</td><td>145.0</td><td>0.9986</td><td>3.16</td><td>0.88</td><td>9.2</td><td>5</td></tr><tr><th>16</th><td>8.9</td><td>0.62</td><td>0.19</td><td>3.9</td><td>0.17</td><td>51.0</td><td>148.0</td><td>0.9986</td><td>3.17</td><td>0.93</td><td>9.2</td><td>5</td></tr><tr><th>17</th><td>8.5</td><td>0.28</td><td>0.56</td><td>1.8</td><td>0.092</td><td>35.0</td><td>103.0</td><td>0.9969</td><td>3.3</td><td>0.75</td><td>10.5</td><td>7</td></tr><tr><th>18</th><td>8.1</td><td>0.56</td><td>0.28</td><td>1.7</td><td>0.368</td><td>16.0</td><td>56.0</td><td>0.9968</td><td>3.11</td><td>1.28</td><td>9.3</td><td>5</td></tr><tr><th>19</th><td>7.4</td><td>0.59</td><td>0.08</td><td>4.4</td><td>0.086</td><td>6.0</td><td>29.0</td><td>0.9974</td><td>3.38</td><td>0.5</td><td>9.0</td><td>4</td></tr><tr><th>20</th><td>7.9</td><td>0.32</td><td>0.51</td><td>1.8</td><td>0.341</td><td>17.0</td><td>56.0</td><td>0.9969</td><td>3.04</td><td>1.08</td><td>9.2</td><td>6</td></tr><tr><th>21</th><td>8.9</td><td>0.22</td><td>0.48</td><td>1.8</td><td>0.077</td><td>29.0</td><td>60.0</td><td>0.9968</td><td>3.39</td><td>0.53</td><td>9.4</td><td>6</td></tr><tr><th>22</th><td>7.6</td><td>0.39</td><td>0.31</td><td>2.3</td><td>0.082</td><td>23.0</td><td>71.0</td><td>0.9982</td><td>3.52</td><td>0.65</td><td>9.7</td><td>5</td></tr><tr><th>23</th><td>7.9</td><td>0.43</td><td>0.21</td><td>1.6</td><td>0.106</td><td>10.0</td><td>37.0</td><td>0.9966</td><td>3.17</td><td>0.91</td><td>9.5</td><td>5</td></tr><tr><th>24</th><td>8.5</td><td>0.49</td><td>0.11</td><td>2.3</td><td>0.084</td><td>9.0</td><td>67.0</td><td>0.9968</td><td>3.17</td><td>0.53</td><td>9.4</td><td>5</td></tr><tr><th>25</th><td>6.9</td><td>0.4</td><td>0.14</td><td>2.4</td><td>0.085</td><td>21.0</td><td>40.0</td><td>0.9968</td><td>3.43</td><td>0.63</td><td>9.7</td><td>6</td></tr><tr><th>26</th><td>6.3</td><td>0.39</td><td>0.16</td><td>1.4</td><td>0.08</td><td>11.0</td><td>23.0</td><td>0.9955</td><td>3.34</td><td>0.56</td><td>9.3</td><td>5</td></tr><tr><th>27</th><td>7.6</td><td>0.41</td><td>0.24</td><td>1.8</td><td>0.08</td><td>4.0</td><td>11.0</td><td>0.9962</td><td>3.28</td><td>0.59</td><td>9.5</td><td>5</td></tr><tr><th>28</th><td>7.9</td><td>0.43</td><td>0.21</td><td>1.6</td><td>0.106</td><td>10.0</td><td>37.0</td><td>0.9966</td><td>3.17</td><td>0.91</td><td>9.5</td><td>5</td></tr><tr><th>29</th><td>7.1</td><td>0.71</td><td>0.0</td><td>1.9</td><td>0.08</td><td>14.0</td><td>35.0</td><td>0.9972</td><td>3.47</td><td>0.55</td><td>9.4</td><td>5</td></tr><tr><th>30</th><td>7.8</td><td>0.645</td><td>0.0</td><td>2.0</td><td>0.082</td><td>8.0</td><td>16.0</td><td>0.9964</td><td>3.38</td><td>0.59</td><td>9.8</td><td>6</td></tr><tr><th>&vellip;</th><td>&vellip;</td><td>&vellip;</td><td>&vellip;</td><td>&vellip;</td><td>&vellip;</td><td>&vellip;</td><td>&vellip;</td><td>&vellip;</td><td>&vellip;</td><td>&vellip;</td><td>&vellip;</td><td>&vellip;</td></tr></table>"
       ],
       "metadata": {},
       "output_type": "pyout",
       "prompt_number": 3,
       "text": [
        "1599x12 DataFrame\n",
        "| Row  | fixed_acidity | volatile_acidity | citric_acid | residual_sugar |\n",
        "|------|---------------|------------------|-------------|----------------|\n",
        "| 1    | 7.4           | 0.7              | 0.0         | 1.9            |\n",
        "| 2    | 7.8           | 0.88             | 0.0         | 2.6            |\n",
        "| 3    | 7.8           | 0.76             | 0.04        | 2.3            |\n",
        "| 4    | 11.2          | 0.28             | 0.56        | 1.9            |\n",
        "| 5    | 7.4           | 0.7              | 0.0         | 1.9            |\n",
        "| 6    | 7.4           | 0.66             | 0.0         | 1.8            |\n",
        "| 7    | 7.9           | 0.6              | 0.06        | 1.6            |\n",
        "| 8    | 7.3           | 0.65             | 0.0         | 1.2            |\n",
        "| 9    | 7.8           | 0.58             | 0.02        | 2.0            |\n",
        "| 10   | 7.5           | 0.5              | 0.36        | 6.1            |\n",
        "| 11   | 6.7           | 0.58             | 0.08        | 1.8            |\n",
        "\u22ee\n",
        "| 1588 | 5.8           | 0.61             | 0.11        | 1.8            |\n",
        "| 1589 | 7.2           | 0.66             | 0.33        | 2.5            |\n",
        "| 1590 | 6.6           | 0.725            | 0.2         | 7.8            |\n",
        "| 1591 | 6.3           | 0.55             | 0.15        | 1.8            |\n",
        "| 1592 | 5.4           | 0.74             | 0.09        | 1.7            |\n",
        "| 1593 | 6.3           | 0.51             | 0.13        | 2.3            |\n",
        "| 1594 | 6.8           | 0.62             | 0.08        | 1.9            |\n",
        "| 1595 | 6.2           | 0.6              | 0.08        | 2.0            |\n",
        "| 1596 | 5.9           | 0.55             | 0.1         | 2.2            |\n",
        "| 1597 | 6.3           | 0.51             | 0.13        | 2.3            |\n",
        "| 1598 | 5.9           | 0.645            | 0.12        | 2.0            |\n",
        "| 1599 | 6.0           | 0.31             | 0.47        | 3.6            |\n",
        "\n",
        "| Row  | chlorides | free_sulfur_dioxide | total_sulfur_dioxide | density |\n",
        "|------|-----------|---------------------|----------------------|---------|\n",
        "| 1    | 0.076     | 11.0                | 34.0                 | 0.9978  |\n",
        "| 2    | 0.098     | 25.0                | 67.0                 | 0.9968  |\n",
        "| 3    | 0.092     | 15.0                | 54.0                 | 0.997   |\n",
        "| 4    | 0.075     | 17.0                | 60.0                 | 0.998   |\n",
        "| 5    | 0.076     | 11.0                | 34.0                 | 0.9978  |\n",
        "| 6    | 0.075     | 13.0                | 40.0                 | 0.9978  |\n",
        "| 7    | 0.069     | 15.0                | 59.0                 | 0.9964  |\n",
        "| 8    | 0.065     | 15.0                | 21.0                 | 0.9946  |\n",
        "| 9    | 0.073     | 9.0                 | 18.0                 | 0.9968  |\n",
        "| 10   | 0.071     | 17.0                | 102.0                | 0.9978  |\n",
        "| 11   | 0.097     | 15.0                | 65.0                 | 0.9959  |\n",
        "\u22ee\n",
        "| 1588 | 0.066     | 18.0                | 28.0                 | 0.99483 |\n",
        "| 1589 | 0.068     | 34.0                | 102.0                | 0.99414 |\n",
        "| 1590 | 0.073     | 29.0                | 79.0                 | 0.9977  |\n",
        "| 1591 | 0.077     | 26.0                | 35.0                 | 0.99314 |\n",
        "| 1592 | 0.089     | 16.0                | 26.0                 | 0.99402 |\n",
        "| 1593 | 0.076     | 29.0                | 40.0                 | 0.99574 |\n",
        "| 1594 | 0.068     | 28.0                | 38.0                 | 0.99651 |\n",
        "| 1595 | 0.09      | 32.0                | 44.0                 | 0.9949  |\n",
        "| 1596 | 0.062     | 39.0                | 51.0                 | 0.99512 |\n",
        "| 1597 | 0.076     | 29.0                | 40.0                 | 0.99574 |\n",
        "| 1598 | 0.075     | 32.0                | 44.0                 | 0.99547 |\n",
        "| 1599 | 0.067     | 18.0                | 42.0                 | 0.99549 |\n",
        "\n",
        "| Row  | pH   | sulphates | alcohol | quality |\n",
        "|------|------|-----------|---------|---------|\n",
        "| 1    | 3.51 | 0.56      | 9.4     | 5       |\n",
        "| 2    | 3.2  | 0.68      | 9.8     | 5       |\n",
        "| 3    | 3.26 | 0.65      | 9.8     | 5       |\n",
        "| 4    | 3.16 | 0.58      | 9.8     | 6       |\n",
        "| 5    | 3.51 | 0.56      | 9.4     | 5       |\n",
        "| 6    | 3.51 | 0.56      | 9.4     | 5       |\n",
        "| 7    | 3.3  | 0.46      | 9.4     | 5       |\n",
        "| 8    | 3.39 | 0.47      | 10.0    | 7       |\n",
        "| 9    | 3.36 | 0.57      | 9.5     | 7       |\n",
        "| 10   | 3.35 | 0.8       | 10.5    | 5       |\n",
        "| 11   | 3.28 | 0.54      | 9.2     | 5       |\n",
        "\u22ee\n",
        "| 1588 | 3.55 | 0.66      | 10.9    | 6       |\n",
        "| 1589 | 3.27 | 0.78      | 12.8    | 6       |\n",
        "| 1590 | 3.29 | 0.54      | 9.2     | 5       |\n",
        "| 1591 | 3.32 | 0.82      | 11.6    | 6       |\n",
        "| 1592 | 3.67 | 0.56      | 11.6    | 6       |\n",
        "| 1593 | 3.42 | 0.75      | 11.0    | 6       |\n",
        "| 1594 | 3.42 | 0.82      | 9.5     | 6       |\n",
        "| 1595 | 3.45 | 0.58      | 10.5    | 5       |\n",
        "| 1596 | 3.52 | 0.76      | 11.2    | 6       |\n",
        "| 1597 | 3.42 | 0.75      | 11.0    | 6       |\n",
        "| 1598 | 3.57 | 0.71      | 10.2    | 5       |\n",
        "| 1599 | 3.39 | 0.66      | 11.0    | 6       |"
       ]
      }
     ],
     "prompt_number": 3
    },
    {
     "cell_type": "code",
     "collapsed": false,
     "input": [
      "wine_features = array(wine[:, 1:end-1])\n",
      "wine_labels = array(wine[:, end])"
     ],
     "language": "python",
     "metadata": {},
     "outputs": [
      {
       "metadata": {},
       "output_type": "pyout",
       "prompt_number": 5,
       "text": [
        "1599-element Array{Int64,1}:\n",
        " 5\n",
        " 5\n",
        " 5\n",
        " 6\n",
        " 5\n",
        " 5\n",
        " 5\n",
        " 7\n",
        " 7\n",
        " 5\n",
        " 5\n",
        " 5\n",
        " 5\n",
        " \u22ee\n",
        " 6\n",
        " 6\n",
        " 5\n",
        " 6\n",
        " 6\n",
        " 6\n",
        " 6\n",
        " 5\n",
        " 6\n",
        " 6\n",
        " 5\n",
        " 6"
       ]
      }
     ],
     "prompt_number": 5
    },
    {
     "cell_type": "code",
     "collapsed": false,
     "input": [
      "@time begin\n",
      "    model = build_forest(wine_labels, wine_features, 4, 30)\n",
      "end"
     ],
     "language": "python",
     "metadata": {},
     "outputs": [
      {
       "output_type": "stream",
       "stream": "stdout",
       "text": [
        "elapsed time: 0."
       ]
      },
      {
       "output_type": "stream",
       "stream": "stdout",
       "text": [
        "491371571 seconds (11134872 bytes allocated)\n"
       ]
      },
      {
       "metadata": {},
       "output_type": "pyout",
       "prompt_number": 9,
       "text": [
        "Ensemble of Decision Trees\n",
        "Trees:      30\n",
        "Avg Leaves: 255.46666666666667\n",
        "Avg Depth:  17.4"
       ]
      }
     ],
     "prompt_number": 9
    },
    {
     "cell_type": "code",
     "collapsed": false,
     "input": [
      "accuracy = nfoldCV_forest(wine_labels, wine_features, 4, 30, 4)"
     ],
     "language": "python",
     "metadata": {},
     "outputs": [
      {
       "output_type": "stream",
       "stream": "stdout",
       "text": [
        "\n",
        "Fold 1"
       ]
      },
      {
       "output_type": "stream",
       "stream": "stdout",
       "text": [
        "\n",
        "Classes:  {3,4,5,6,7,8}\n",
        "Matrix:   \n",
        "[0 0 1 0 0 0\n",
        " 0 0 15 1 0 0\n",
        " 0 0 127 42 0 0\n",
        " 0 0 41 100 5 0\n",
        " 0 0 4 33 22 0\n",
        " 0 0 0 5 3 0]\n",
        "Accuracy: 0.6240601503759399\n",
        "Kappa:    0.3968740237622565\n"
       ]
      },
      {
       "output_type": "stream",
       "stream": "stdout",
       "text": [
        "\n",
        "Fold 2"
       ]
      },
      {
       "output_type": "stream",
       "stream": "stdout",
       "text": [
        "\n",
        "Classes:  {3,4,5,6,7,8}\n",
        "Matrix:   \n",
        "[0 0 3 0 0 0\n",
        " 0 1 5 2 0 0\n",
        " 0 1 137 21 2 0\n",
        " 0 1 60 102 16 0\n",
        " 0 0 4 14 26 0\n",
        " 0 0 0 2 1 1]\n",
        "Accuracy: 0.6691729323308271\n",
        "Kappa:    0.46423884848176594\n"
       ]
      },
      {
       "output_type": "stream",
       "stream": "stdout",
       "text": [
        "\n",
        "Fold 3"
       ]
      },
      {
       "output_type": "stream",
       "stream": "stdout",
       "text": [
        "\n",
        "Classes:  {3,4,5,6,7,8}\n",
        "Matrix:   \n",
        "[0 0 2 2 0 0\n",
        " 0 0 6 6 0 0\n",
        " 0 0 148 33 3 0\n",
        " 0 1 38 105 7 0\n",
        " 0 0 1 21 23 0\n",
        " 0 0 0 1 2 0]\n",
        "Accuracy: 0.6917293233082706\n",
        "Kappa:    0.4907228690617022\n"
       ]
      },
      {
       "output_type": "stream",
       "stream": "stdout",
       "text": [
        "\n",
        "Fold "
       ]
      },
      {
       "output_type": "stream",
       "stream": "stdout",
       "text": [
        "4\n",
        "Classes:  {3,4,5,6,7,8}\n",
        "Matrix:   \n",
        "[0 0 2 0 0 0\n",
        " 0 0 13 4 0 0\n",
        " 0 0 126 39 1 0\n",
        " 0 0 33 110 16 2\n",
        " 0 0 3 24 23 0\n",
        " 0 0 0 0 2 1]\n",
        "Accuracy: 0.6516290726817042\n",
        "Kappa:    0.44099059599044477\n",
        "\n",
        "Mean Accuracy: 0.6591478696741855\n"
       ]
      },
      {
       "metadata": {},
       "output_type": "pyout",
       "prompt_number": 170,
       "text": [
        "4-element Array{Float64,1}:\n",
        " 0.62406 \n",
        " 0.669173\n",
        " 0.691729\n",
        " 0.651629"
       ]
      }
     ],
     "prompt_number": 170
    }
   ],
   "metadata": {}
  }
 ]
}