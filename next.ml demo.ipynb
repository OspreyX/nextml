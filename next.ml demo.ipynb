{
 "metadata": {
  "language": "Julia",
  "name": "",
  "signature": "sha256:816c87186a82da570faf79f9c8905ca1e93ba76fc2286e0e919d129493aec343"
 },
 "nbformat": 3,
 "nbformat_minor": 0,
 "worksheets": [
  {
   "cells": [
    {
     "cell_type": "code",
     "collapsed": false,
     "input": [
      "# Examples adapted from: http://www.csd.uwo.ca/~moreno/cs2101a_moreno/Parallel_computing_with_Julia.pdf "
     ],
     "language": "python",
     "metadata": {},
     "outputs": []
    },
    {
     "cell_type": "code",
     "collapsed": false,
     "input": [
      "CPU_CORES"
     ],
     "language": "python",
     "metadata": {},
     "outputs": [
      {
       "metadata": {},
       "output_type": "pyout",
       "prompt_number": 1,
       "text": [
        "1"
       ]
      }
     ],
     "prompt_number": 1
    },
    {
     "cell_type": "code",
     "collapsed": false,
     "input": [
      "addprocs(CPU_CORES - 1)"
     ],
     "language": "python",
     "metadata": {},
     "outputs": [
      {
       "metadata": {},
       "output_type": "pyout",
       "prompt_number": 5,
       "text": [
        "2-element Array{Any,1}:\n",
        " 2\n",
        " 3"
       ]
      }
     ],
     "prompt_number": 5
    },
    {
     "cell_type": "code",
     "collapsed": false,
     "input": [
      "nprocs()"
     ],
     "language": "python",
     "metadata": {},
     "outputs": [
      {
       "metadata": {},
       "output_type": "pyout",
       "prompt_number": 9,
       "text": [
        "3"
       ]
      }
     ],
     "prompt_number": 9
    },
    {
     "cell_type": "code",
     "collapsed": false,
     "input": [
      "begin\n",
      "    coinflip() = int(randbool())\n",
      "end"
     ],
     "language": "python",
     "metadata": {},
     "outputs": [
      {
       "metadata": {},
       "output_type": "pyout",
       "prompt_number": 3,
       "text": [
        "coinflip (generic function with 1 method)"
       ]
      }
     ],
     "prompt_number": 3
    },
    {
     "cell_type": "code",
     "collapsed": false,
     "input": [
      "n = 10000000\n",
      "nheads = @parallel (+) for i=1:n; coinflip(); end\n",
      "nheads/n"
     ],
     "language": "python",
     "metadata": {},
     "outputs": [
      {
       "metadata": {},
       "output_type": "pyout",
       "prompt_number": 4,
       "text": [
        "0.499925"
       ]
      }
     ],
     "prompt_number": 4
    },
    {
     "cell_type": "code",
     "collapsed": false,
     "input": [
      "@everywhere begin\n",
      "    coinflip() = int(randbool())\n",
      "end"
     ],
     "language": "python",
     "metadata": {},
     "outputs": [],
     "prompt_number": 6
    },
    {
     "cell_type": "code",
     "collapsed": false,
     "input": [
      "n = 10000000\n",
      "@time (@parallel (+) for i=1:n; coinflip(); end) / n\n"
     ],
     "language": "python",
     "metadata": {},
     "outputs": [
      {
       "output_type": "stream",
       "stream": "stderr",
       "text": [
        "exception on "
       ]
      },
      {
       "output_type": "stream",
       "stream": "stderr",
       "text": [
        "2: "
       ]
      },
      {
       "output_type": "stream",
       "stream": "stderr",
       "text": [
        "exception on 3: "
       ]
      },
      {
       "output_type": "stream",
       "stream": "stderr",
       "text": [
        "ERROR: function coinflip not defined on process 2\n",
        " in error at error.jl:21\n",
        " in anonymous at serialize.jl:397\n",
        " in anonymous at no file:2\n",
        " in anonymous at multi.jl:1279\n",
        " in anonymous at multi.jl:848\n",
        " in run_work_thunk at multi.jl:621\n",
        " in run_work_thunk at multi.jl:630\n",
        " in anonymous at task.jl:6\n"
       ]
      },
      {
       "output_type": "stream",
       "stream": "stderr",
       "text": [
        "ERROR: function coinflip not defined on process 3\n",
        " in error at error.jl:21\n",
        " in anonymous at serialize.jl:397\n",
        " in anonymous at no file:2\n",
        " in anonymous at multi.jl:1279\n",
        " in anonymous at multi.jl:848\n",
        " in run_work_thunk at multi.jl:621\n",
        " in run_work_thunk at multi.jl:630\n",
        " in anonymous at task.jl:6\n"
       ]
      },
      {
       "ename": "LoadError",
       "evalue": "`+` has no method matching +(::ErrorException, ::ErrorException)\nwhile loading In[7], in expression starting on line 1492",
       "output_type": "pyerr",
       "traceback": [
        "`+` has no method matching +(::ErrorException, ::ErrorException)\nwhile loading In[7], in expression starting on line 1492",
        "",
        " in _mapreduce at reduce.jl:160",
        " in mapreduce at reduce.jl:176",
        " in preduce at multi.jl:1418"
       ]
      }
     ],
     "prompt_number": 7
    },
    {
     "cell_type": "code",
     "collapsed": false,
     "input": [
      "total = 0\n",
      "@time begin \n",
      "    (for i=1:n; total += coinflip(); end)\n",
      "end\n",
      "total / n"
     ],
     "language": "python",
     "metadata": {},
     "outputs": [
      {
       "output_type": "stream",
       "stream": "stdout",
       "text": [
        "elapsed time: 8"
       ]
      },
      {
       "output_type": "stream",
       "stream": "stdout",
       "text": [
        ".88690945 seconds (3999968552 bytes allocated, 24.01% gc time)\n"
       ]
      },
      {
       "metadata": {},
       "output_type": "pyout",
       "prompt_number": 16,
       "text": [
        "0.49997612"
       ]
      }
     ],
     "prompt_number": 16
    },
    {
     "cell_type": "code",
     "collapsed": false,
     "input": [
      "pmap(sqrt, 1:100000)"
     ],
     "language": "python",
     "metadata": {},
     "outputs": [
      {
       "metadata": {},
       "output_type": "pyout",
       "prompt_number": 48,
       "text": [
        "100000-element Array{Any,1}:\n",
        "   1.0    \n",
        "   1.41421\n",
        "   1.73205\n",
        "   2.0    \n",
        "   2.23607\n",
        "   2.44949\n",
        "   2.64575\n",
        "   2.82843\n",
        "   3.0    \n",
        "   3.16228\n",
        "   3.31662\n",
        "   3.4641 \n",
        "   3.60555\n",
        "   \u22ee      \n",
        " 316.21   \n",
        " 316.212  \n",
        " 316.214  \n",
        " 316.215  \n",
        " 316.217  \n",
        " 316.218  \n",
        " 316.22   \n",
        " 316.221  \n",
        " 316.223  \n",
        " 316.225  \n",
        " 316.226  \n",
        " 316.228  "
       ]
      }
     ],
     "prompt_number": 48
    },
    {
     "cell_type": "code",
     "collapsed": false,
     "input": [
      "@everywhere function fib(n)\n",
      "    if (n < 2) then\n",
      "        return n\n",
      "    else \n",
      "        return fib(n-1) + fib(n-2)\n",
      "    end\n",
      "end\n"
     ],
     "language": "python",
     "metadata": {},
     "outputs": [],
     "prompt_number": 17
    },
    {
     "cell_type": "code",
     "collapsed": false,
     "input": [
      "r = remotecall(2, fib, 10)"
     ],
     "language": "python",
     "metadata": {},
     "outputs": [
      {
       "metadata": {},
       "output_type": "pyout",
       "prompt_number": 20,
       "text": [
        "RemoteRef(2,1,202)"
       ]
      }
     ],
     "prompt_number": 20
    },
    {
     "cell_type": "code",
     "collapsed": false,
     "input": [
      "fetch(r)"
     ],
     "language": "python",
     "metadata": {},
     "outputs": [
      {
       "metadata": {},
       "output_type": "pyout",
       "prompt_number": 21,
       "text": [
        "55"
       ]
      }
     ],
     "prompt_number": 21
    },
    {
     "cell_type": "code",
     "collapsed": false,
     "input": [
      "r = remotecall_fetch(2, fib, 40)"
     ],
     "language": "python",
     "metadata": {},
     "outputs": [
      {
       "metadata": {},
       "output_type": "pyout",
       "prompt_number": 32,
       "text": [
        "102334155"
       ]
      }
     ],
     "prompt_number": 32
    },
    {
     "cell_type": "code",
     "collapsed": false,
     "input": [
      "r = @spawn fetch(r)+10"
     ],
     "language": "python",
     "metadata": {},
     "outputs": [
      {
       "metadata": {},
       "output_type": "pyout",
       "prompt_number": 33,
       "text": [
        "RemoteRef(3,1,215)"
       ]
      }
     ],
     "prompt_number": 33
    },
    {
     "cell_type": "code",
     "collapsed": false,
     "input": [
      "fetch(r)"
     ],
     "language": "python",
     "metadata": {},
     "outputs": [
      {
       "metadata": {},
       "output_type": "pyout",
       "prompt_number": 34,
       "text": [
        "102334165"
       ]
      }
     ],
     "prompt_number": 34
    },
    {
     "cell_type": "code",
     "collapsed": false,
     "input": [
      "@everywhere function fib_parallel(n)\n",
      "    if (n < 40) then\n",
      "        return fib(n)\n",
      "    else\n",
      "        x = @spawn fib_parallel(n-1)\n",
      "        y = fib_parallel(n-2)\n",
      "        return fetch(x) + y\n",
      "    end\n",
      "end"
     ],
     "language": "python",
     "metadata": {},
     "outputs": [],
     "prompt_number": 35
    },
    {
     "cell_type": "code",
     "collapsed": false,
     "input": [
      "@time [fib(i) for i=1:45]"
     ],
     "language": "python",
     "metadata": {},
     "outputs": [
      {
       "output_type": "stream",
       "stream": "stdout",
       "text": [
        "elapsed time: 29"
       ]
      },
      {
       "output_type": "stream",
       "stream": "stdout",
       "text": [
        ".314355508 seconds (416 bytes allocated)\n"
       ]
      },
      {
       "metadata": {},
       "output_type": "pyout",
       "prompt_number": 18,
       "text": [
        "45-element Array{Int64,1}:\n",
        "          1\n",
        "          1\n",
        "          2\n",
        "          3\n",
        "          5\n",
        "          8\n",
        "         13\n",
        "         21\n",
        "         34\n",
        "         55\n",
        "         89\n",
        "        144\n",
        "        233\n",
        "          \u22ee\n",
        "    5702887\n",
        "    9227465\n",
        "   14930352\n",
        "   24157817\n",
        "   39088169\n",
        "   63245986\n",
        "  102334155\n",
        "  165580141\n",
        "  267914296\n",
        "  433494437\n",
        "  701408733\n",
        " 1134903170"
       ]
      }
     ],
     "prompt_number": 18
    },
    {
     "cell_type": "code",
     "collapsed": false,
     "input": [
      "@time [fib_parallel(i) for i=1:45]"
     ],
     "language": "python",
     "metadata": {},
     "outputs": [
      {
       "output_type": "stream",
       "stream": "stdout",
       "text": [
        "elapsed time: 11"
       ]
      },
      {
       "output_type": "stream",
       "stream": "stdout",
       "text": [
        ".96962926 seconds (61184 bytes allocated)\n"
       ]
      },
      {
       "metadata": {},
       "output_type": "pyout",
       "prompt_number": 19,
       "text": [
        "45-element Array{Any,1}:\n",
        "          1\n",
        "          1\n",
        "          2\n",
        "          3\n",
        "          5\n",
        "          8\n",
        "         13\n",
        "         21\n",
        "         34\n",
        "         55\n",
        "         89\n",
        "        144\n",
        "        233\n",
        "          \u22ee\n",
        "    5702887\n",
        "    9227465\n",
        "   14930352\n",
        "   24157817\n",
        "   39088169\n",
        "   63245986\n",
        "  102334155\n",
        "  165580141\n",
        "  267914296\n",
        "  433494437\n",
        "  701408733\n",
        " 1134903170"
       ]
      }
     ],
     "prompt_number": 19
    },
    {
     "cell_type": "code",
     "collapsed": false,
     "input": [
      "# gotchas"
     ],
     "language": "python",
     "metadata": {},
     "outputs": []
    },
    {
     "cell_type": "code",
     "collapsed": false,
     "input": [
      "a = zeros(4)\n",
      "for i=1:4\n",
      "    a[i] = i\n",
      "end\n",
      "a"
     ],
     "language": "python",
     "metadata": {},
     "outputs": [
      {
       "metadata": {},
       "output_type": "pyout",
       "prompt_number": 68,
       "text": [
        "4-element Array{Float64,1}:\n",
        " 1.0\n",
        " 2.0\n",
        " 3.0\n",
        " 4.0"
       ]
      }
     ],
     "prompt_number": 68
    },
    {
     "cell_type": "code",
     "collapsed": false,
     "input": [
      "a = zeros(4)\n",
      "@parallel for i=1:4\n",
      "    a[i] = i\n",
      "end\n",
      "a"
     ],
     "language": "python",
     "metadata": {},
     "outputs": [
      {
       "metadata": {},
       "output_type": "pyout",
       "prompt_number": 69,
       "text": [
        "4-element Array{Float64,1}:\n",
        " 0.0\n",
        " 0.0\n",
        " 0.0\n",
        " 0.0"
       ]
      }
     ],
     "prompt_number": 69
    },
    {
     "cell_type": "code",
     "collapsed": false,
     "input": [
      "# EXERCISE"
     ],
     "language": "python",
     "metadata": {},
     "outputs": []
    }
   ],
   "metadata": {}
  }
 ]
}