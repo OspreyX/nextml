{
 "metadata": {
  "language": "Julia",
  "name": "",
  "signature": "sha256:448c56607b213c14010b372c1f829152d8fa27e66a4eefb4f28c779d0461ae55"
 },
 "nbformat": 3,
 "nbformat_minor": 0,
 "worksheets": [
  {
   "cells": [
    {
     "cell_type": "code",
     "collapsed": false,
     "input": [
      "addprocs(CPU_CORES - 1)"
     ],
     "language": "python",
     "metadata": {},
     "outputs": [
      {
       "metadata": {},
       "output_type": "pyout",
       "prompt_number": 1,
       "text": [
        "3-element Array{Any,1}:\n",
        " 2\n",
        " 3\n",
        " 4"
       ]
      }
     ],
     "prompt_number": 1
    },
    {
     "cell_type": "code",
     "collapsed": false,
     "input": [
      "@everywhere function patiencesort(p::Vector)\n",
      "    piles = similar(p, 0)\n",
      "    for pi in p\n",
      "        idx = 1\n",
      "        for pp in piles\n",
      "            if pi > pp\n",
      "                idx += 1\n",
      "            end\n",
      "        end\n",
      "        if idx > length(piles)\n",
      "            d = length(piles)\n",
      "            resize!(piles, idx)\n",
      "            piles[d+1:end] = 0\n",
      "        end\n",
      "        piles[idx] = pi\n",
      "    end\n",
      "    return length(piles)\n",
      "end"
     ],
     "language": "python",
     "metadata": {},
     "outputs": [],
     "prompt_number": 2
    },
    {
     "cell_type": "code",
     "collapsed": false,
     "input": [
      "perm_length = 50\n",
      "patiencesort(randperm(perm_length))"
     ],
     "language": "python",
     "metadata": {},
     "outputs": [
      {
       "metadata": {},
       "output_type": "pyout",
       "prompt_number": 6,
       "text": [
        "10"
       ]
      }
     ],
     "prompt_number": 6
    },
    {
     "cell_type": "code",
     "collapsed": false,
     "input": [
      "perm_length = 50\n",
      "lengths_of_longest_increasing_seq = @parallel (vcat) for i=1:10000; patiencesort(randperm(perm_length)); end"
     ],
     "language": "python",
     "metadata": {},
     "outputs": [
      {
       "metadata": {},
       "output_type": "pyout",
       "prompt_number": 7,
       "text": [
        "10000-element Array{Int64,1}:\n",
        " 12\n",
        " 13\n",
        " 11\n",
        "  8\n",
        " 10\n",
        " 12\n",
        " 10\n",
        " 14\n",
        " 12\n",
        " 12\n",
        " 11\n",
        " 11\n",
        " 10\n",
        "  \u22ee\n",
        " 10\n",
        " 13\n",
        " 12\n",
        " 11\n",
        "  9\n",
        "  9\n",
        "  9\n",
        " 11\n",
        " 10\n",
        " 12\n",
        " 12\n",
        " 11"
       ]
      }
     ],
     "prompt_number": 7
    },
    {
     "cell_type": "code",
     "collapsed": false,
     "input": [
      "# on Mac, using Gadfly\n",
      "# using DataFrames\n",
      "# plot(x = lengths_of_longest_increasing_seq, Geom.histogram)\n",
      "\n",
      "# on Domino/Linux, using PyCall with the qt backend\n",
      "# using PyCall\n",
      "# pygui(:qt)\n",
      "# using PyPlot\n",
      "h = PyPlot.plt.hist(lengths_of_longest_increasing_seq, uni)  "
     ],
     "language": "python",
     "metadata": {},
     "outputs": [
      {
       "ename": "LoadError",
       "evalue": "uni not defined\nwhile loading In[9], in expression starting on line 9",
       "output_type": "pyerr",
       "traceback": [
        "uni not defined\nwhile loading In[9], in expression starting on line 9",
        ""
       ]
      }
     ],
     "prompt_number": 9
    },
    {
     "cell_type": "code",
     "collapsed": false,
     "input": [
      "function parallel_monte_carlo(sample_generator, num_trials)\n",
      "    return @parallel (vcat) for i=1:num_trials; sample_generator(); end\n",
      "end"
     ],
     "language": "python",
     "metadata": {},
     "outputs": [
      {
       "metadata": {},
       "output_type": "pyout",
       "prompt_number": 10,
       "text": [
        "parallel_monte_carlo (generic function with 1 method)"
       ]
      }
     ],
     "prompt_number": 10
    },
    {
     "cell_type": "code",
     "collapsed": false,
     "input": [
      "parallel_monte_carlo(() -> patiencesort(randperm(10)), 10)"
     ],
     "language": "python",
     "metadata": {},
     "outputs": [
      {
       "metadata": {},
       "output_type": "pyout",
       "prompt_number": 11,
       "text": [
        "10-element Array{Int64,1}:\n",
        " 6\n",
        " 4\n",
        " 3\n",
        " 4\n",
        " 5\n",
        " 4\n",
        " 4\n",
        " 4\n",
        " 5\n",
        " 4"
       ]
      }
     ],
     "prompt_number": 11
    },
    {
     "cell_type": "code",
     "collapsed": false,
     "input": [
      "@everywhere function inside_unit_circle(x, y) \n",
      "    if (x*x + y*y) < 1\n",
      "        return 1\n",
      "    else \n",
      "        return 0\n",
      "    end\n",
      "end\n"
     ],
     "language": "python",
     "metadata": {},
     "outputs": [],
     "prompt_number": 12
    },
    {
     "cell_type": "code",
     "collapsed": false,
     "input": [
      "points_in_circle = mean(parallel_monte_carlo(() -> inside_unit_circle(rand(), rand()), 100000))\n",
      "pi = 4 * mean(points_in_circle)"
     ],
     "language": "python",
     "metadata": {},
     "outputs": [
      {
       "metadata": {},
       "output_type": "pyout",
       "prompt_number": 13,
       "text": [
        "3.14656"
       ]
      }
     ],
     "prompt_number": 13
    },
    {
     "cell_type": "code",
     "collapsed": false,
     "input": [],
     "language": "python",
     "metadata": {},
     "outputs": []
    }
   ],
   "metadata": {}
  }
 ]
}